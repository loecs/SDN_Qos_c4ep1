{
 "cells": [
  {
   "cell_type": "code",
   "execution_count": 1,
   "metadata": {},
   "outputs": [
    {
     "name": "stderr",
     "output_type": "stream",
     "text": [
      "E:\\Python\\lib\\site-packages\\pandas\\core\\arrays\\masked.py:64: UserWarning: Pandas requires version '1.3.2' or newer of 'bottleneck' (version '1.2.1' currently installed).\n",
      "  from pandas.core import (\n"
     ]
    }
   ],
   "source": [
    "import pandas as pd\n",
    "import numpy as np\n",
    "my_seed = 2017\n",
    "np.random.seed(my_seed)\n",
    "import random \n",
    "random.seed(my_seed)\n",
    "import tensorflow as tf\n",
    "tf.random.set_seed(my_seed)"
   ]
  },
  {
   "cell_type": "code",
   "execution_count": 2,
   "metadata": {},
   "outputs": [
    {
     "data": {
      "text/html": [
       "<div>\n",
       "<style scoped>\n",
       "    .dataframe tbody tr th:only-of-type {\n",
       "        vertical-align: middle;\n",
       "    }\n",
       "\n",
       "    .dataframe tbody tr th {\n",
       "        vertical-align: top;\n",
       "    }\n",
       "\n",
       "    .dataframe thead th {\n",
       "        text-align: right;\n",
       "    }\n",
       "</style>\n",
       "<table border=\"1\" class=\"dataframe\">\n",
       "  <thead>\n",
       "    <tr style=\"text-align: right;\">\n",
       "      <th></th>\n",
       "      <th>timestamp</th>\n",
       "      <th>link_id</th>\n",
       "      <th>throughput</th>\n",
       "      <th>delay</th>\n",
       "      <th>jitter</th>\n",
       "      <th>loss</th>\n",
       "      <th>入端口</th>\n",
       "      <th>出端口</th>\n",
       "      <th>组合</th>\n",
       "    </tr>\n",
       "  </thead>\n",
       "  <tbody>\n",
       "    <tr>\n",
       "      <th>0</th>\n",
       "      <td>00:56:56.600000</td>\n",
       "      <td>4-3-2-5</td>\n",
       "      <td>0</td>\n",
       "      <td>1.355648</td>\n",
       "      <td>1.355648</td>\n",
       "      <td>0.0</td>\n",
       "      <td>4</td>\n",
       "      <td>5</td>\n",
       "      <td>45</td>\n",
       "    </tr>\n",
       "    <tr>\n",
       "      <th>1</th>\n",
       "      <td>00:57:09.600000</td>\n",
       "      <td>4-3-2-5</td>\n",
       "      <td>3200</td>\n",
       "      <td>1.294017</td>\n",
       "      <td>0.061631</td>\n",
       "      <td>0.0</td>\n",
       "      <td>4</td>\n",
       "      <td>5</td>\n",
       "      <td>45</td>\n",
       "    </tr>\n",
       "    <tr>\n",
       "      <th>2</th>\n",
       "      <td>00:57:36.700000</td>\n",
       "      <td>4-3-2-5</td>\n",
       "      <td>0</td>\n",
       "      <td>1.390100</td>\n",
       "      <td>1.390100</td>\n",
       "      <td>0.0</td>\n",
       "      <td>4</td>\n",
       "      <td>5</td>\n",
       "      <td>45</td>\n",
       "    </tr>\n",
       "    <tr>\n",
       "      <th>3</th>\n",
       "      <td>00:57:49.700000</td>\n",
       "      <td>4-3-2-5</td>\n",
       "      <td>4930</td>\n",
       "      <td>1.552820</td>\n",
       "      <td>0.162721</td>\n",
       "      <td>0.0</td>\n",
       "      <td>4</td>\n",
       "      <td>5</td>\n",
       "      <td>45</td>\n",
       "    </tr>\n",
       "  </tbody>\n",
       "</table>\n",
       "</div>"
      ],
      "text/plain": [
       "         timestamp  link_id  throughput     delay    jitter  loss  入端口  出端口  \\\n",
       "0  00:56:56.600000  4-3-2-5           0  1.355648  1.355648   0.0    4    5   \n",
       "1  00:57:09.600000  4-3-2-5        3200  1.294017  0.061631   0.0    4    5   \n",
       "2  00:57:36.700000  4-3-2-5           0  1.390100  1.390100   0.0    4    5   \n",
       "3  00:57:49.700000  4-3-2-5        4930  1.552820  0.162721   0.0    4    5   \n",
       "\n",
       "   组合  \n",
       "0  45  \n",
       "1  45  \n",
       "2  45  \n",
       "3  45  "
      ]
     },
     "execution_count": 2,
     "metadata": {},
     "output_type": "execute_result"
    }
   ],
   "source": [
    "#导入数据测试\n",
    "df2='45.xlsx'\n",
    "data2=pd.read_excel(df2)\n",
    "data2.head(4)"
   ]
  },
  {
   "cell_type": "code",
   "execution_count": 3,
   "metadata": {},
   "outputs": [
    {
     "name": "stdout",
     "output_type": "stream",
     "text": [
      "[   0 3200    0 ...  672  672  720]\n"
     ]
    },
    {
     "data": {
      "text/plain": [
       "numpy.ndarray"
      ]
     },
     "execution_count": 3,
     "metadata": {},
     "output_type": "execute_result"
    }
   ],
   "source": [
    "# 创建一个Series对象\n",
    "s = data2[\"throughput\"]\n",
    "# 将Series转换为ndarray\n",
    "arr = s.to_numpy()\n",
    "# 输出数组\n",
    "print(arr)\n",
    "#检查数据类型\n",
    "type(arr)"
   ]
  },
  {
   "cell_type": "code",
   "execution_count": null,
   "metadata": {},
   "outputs": [],
   "source": []
  },
  {
   "cell_type": "code",
   "execution_count": 4,
   "metadata": {},
   "outputs": [],
   "source": [
    "import matplotlib\n",
    "import matplotlib.pyplot as plt\n",
    "matplotlib.rcParams['font.family'] = 'SimHei'"
   ]
  },
  {
   "cell_type": "code",
   "execution_count": 5,
   "metadata": {},
   "outputs": [
    {
     "data": {
      "text/plain": [
       "numpy.ndarray"
      ]
     },
     "execution_count": 5,
     "metadata": {},
     "output_type": "execute_result"
    }
   ],
   "source": [
    "#all_data = np.fromfile(\"ec_data\")\n",
    "all_data=arr\n",
    "type(all_data)"
   ]
  },
  {
   "cell_type": "code",
   "execution_count": 6,
   "metadata": {},
   "outputs": [],
   "source": [
    "from sklearn.preprocessing import MinMaxScaler\n",
    "stand_scaler = MinMaxScaler()\n",
    "all_data = stand_scaler.fit_transform(all_data.reshape(-1,1))"
   ]
  },
  {
   "cell_type": "code",
   "execution_count": 7,
   "metadata": {},
   "outputs": [],
   "source": [
    "#sequence_len = 10 #原来的\n",
    "sequence_len = 60 #最适合\n",
    "X = []\n",
    "Y = []\n",
    "for i in range(len(all_data)-sequence_len):\n",
    "    X.append(all_data[i:i+sequence_len])\n",
    "    Y.append(all_data[i+sequence_len])\n",
    "X = np.array(X)\n",
    "Y = np.array(Y)\n",
    "#这段代码的作用是将一个给定时间序列数据 `all_data` 按照指定的时间步长 `sequence_len` 进行滑窗切分，切分出一系列的样本数据，以便之后输入模型进行训练或预测。\n",
    "#具体来说，假设原始的时间序列数据为 $[x_1, x_2, ..., x_n]$，那么代码首先定义了两个空列表 `X` 和 `Y`，然后在一个 for 循环中对原始数据进行了以下处理：\n",
    "#1. 对于每个下标 `i`，从原始数据中切分出长度为 `sequence_len` 的子序列 `all_data[i:i+sequence_len]`，并将该子序列添加到 `X` 列表中；\n",
    "#2. 将切分后的子序列的下一个元素 `all_data[i+sequence_len]` 添加到 `Y` 列表中。\n",
    "#最终，`X` 和 `Y` 数组将分别包含所有通过滑窗切分得到的样本数据和对应的标签数据。其中，`X` 的形状为 `(n-sequence_len, sequence_len)`，\n",
    "#表示共有 `n-sequence_len` 个样本，每个样本有 `sequence_len` 个特征值；而 `Y` 的形状为 `(n-sequence_len,)`，表示每个样本对应一个标签（即下一个时间步的特征值）。"
   ]
  },
  {
   "cell_type": "code",
   "execution_count": 8,
   "metadata": {},
   "outputs": [],
   "source": [
    "from sklearn.model_selection import train_test_split\n",
    "X_train, X_test, Y_train, Y_test = train_test_split(X, Y, test_size=0.05)"
   ]
  },
  {
   "cell_type": "code",
   "execution_count": 9,
   "metadata": {},
   "outputs": [],
   "source": [
    "import tensorflow as tf\n",
    "from tensorflow import keras\n",
    "from keras.models import Sequential\n",
    "from keras.layers import Dense,LSTM"
   ]
  },
  {
   "cell_type": "code",
   "execution_count": 10,
   "metadata": {},
   "outputs": [],
   "source": [
    "def build_model(activation_name,):\n",
    "    model = Sequential()\n",
    "    #model.add(LSTM(128, input_shape=(sequence_len,1),return_sequences=True))  #原来的\n",
    "    #model.add(LSTM(128, input_shape=(sequence_len,1),return_sequences=True))\n",
    "    #model.add(LSTM(64))\n",
    "   # model.add(Dense(1,activation=activation_name))\n",
    "    #optimizer =tf.optimizers.Adam(learning_rate=0.1) #原来的\n",
    "    optimizer =tf.optimizers.Adam(learning_rate=0.05)\n",
    "    #model.compile(loss='mean_squared_error', optimizer=optimizer, metrics=['mape'])\n",
    "    model.add(keras.layers.LSTM(units=32, input_shape=(None, 1)))\n",
    "    model.add(keras.layers.Dense(units=1))\n",
    "    model.compile(optimizer='adam', loss='mean_squared_error')\n",
    "    return model\n",
    "\n",
    "#原解析：\n",
    "#这些代码是用来构建一个神经网络模型，主要应用于时间序列数据的预测。具体作用如下：\n",
    "#导入Keras库中的Sequential顺序模型和LSTM层\n",
    "#定义了一个函数build_model，用于构建神经网络模型\n",
    "#在模型中添加了两个LSTM层，分别为含有128个节点的输入层和含有64个节点的输出层\n",
    "#向模型添加了一个具有1个节点的稠密层(Dense)，并指定激活函数为用户提供的activation_name参数（实现可配置）\n",
    "#定义了优化器Adam，并设置学习率为0.1\n",
    "#编译了模型，指定损失函数为均方差误差（mean_squared_error），优化器为Adam，并使用平均绝对百分比误差（mean absolute percentage error）进行模型评估\n",
    "#返回构建好的模型"
   ]
  },
  {
   "cell_type": "code",
   "execution_count": 11,
   "metadata": {},
   "outputs": [],
   "source": [
    "lstm = build_model(\"sigmoid\")\n",
    "step = 250"
   ]
  },
  {
   "cell_type": "code",
   "execution_count": 12,
   "metadata": {},
   "outputs": [
    {
     "data": {
      "text/plain": [
       "(1115, 60, 1)"
      ]
     },
     "execution_count": 12,
     "metadata": {},
     "output_type": "execute_result"
    }
   ],
   "source": [
    "X_train.shape"
   ]
  },
  {
   "cell_type": "code",
   "execution_count": 13,
   "metadata": {},
   "outputs": [],
   "source": [
    "history = lstm.fit(\n",
    "    X_train, Y_train, epochs=50, batch_size = 32,verbose=0,validation_data = (X_test, Y_test)\n",
    "    )\n",
    "\n",
    "#epochs (轮数): 整个训练集数据将被用来训练神经网络50次。\n",
    "#batch_size (批处理大小)：每个训练批次包含的样本数量为32。\n",
    "#verbose (冗长模式): 设置为0以关闭详细输出。\n",
    "#validation_data (验证数据): 将测试集作为验证数据传入，以了解模型的表现情况。\n",
    "#总体来说，lstm.fit()方法会根据提供的训练数据和超参数对模型进行训练，\n",
    "#并且返回一个 history 对象，其中包含一些有关模型表现的统计信息（例如每轮结束后的训练和验证损失、准确度等）。"
   ]
  },
  {
   "cell_type": "code",
   "execution_count": 14,
   "metadata": {},
   "outputs": [
    {
     "name": "stdout",
     "output_type": "stream",
     "text": [
      "2/2 [==============================] - 0s 6ms/step\n"
     ]
    }
   ],
   "source": [
    "Y_predict = lstm.predict(X_test)"
   ]
  },
  {
   "cell_type": "code",
   "execution_count": 15,
   "metadata": {},
   "outputs": [
    {
     "data": {
      "text/plain": [
       "(59, 1)"
      ]
     },
     "execution_count": 15,
     "metadata": {},
     "output_type": "execute_result"
    }
   ],
   "source": [
    "Y_predict.shape"
   ]
  },
  {
   "cell_type": "code",
   "execution_count": 16,
   "metadata": {},
   "outputs": [
    {
     "data": {
      "text/plain": [
       "(59, 60, 1)"
      ]
     },
     "execution_count": 16,
     "metadata": {},
     "output_type": "execute_result"
    }
   ],
   "source": [
    "X_test.shape"
   ]
  },
  {
   "cell_type": "code",
   "execution_count": 17,
   "metadata": {},
   "outputs": [],
   "source": [
    "Y_predict_real = stand_scaler.inverse_transform(Y_predict.reshape(-1,1))\n",
    "Y_test_real = stand_scaler.inverse_transform(Y_test.reshape(-1,1))\n",
    "#stand_scaler.inverse_transform()函数是用来将经过标准化的数据还原回其原始状态。\n",
    "#这里，Y_predict_real 和 Y_test_real就是通过逆向变换重新获得实际的数值的数组。\n",
    "#reshape()函数则是用来改变数据形状的，由于标准化后的数组是一个列向量，所以需要使用reshape(-1,1)将其转化为行向量。\n",
    "#reshape（行，列）可以根据指定的数值将数据转换为特定的行数和列数\n",
    "#这里的-1被理解为unspecified value，意思是未指定为给定的。如果我只需要特定的行数，列数多少我无所谓，我只需要指定行数，那么列数直接用-1代替就行了，\n",
    "#计算机帮我们算赢有多少列，反之亦然。"
   ]
  },
  {
   "cell_type": "code",
   "execution_count": 18,
   "metadata": {},
   "outputs": [
    {
     "data": {
      "text/plain": [
       "[<matplotlib.lines.Line2D at 0x19e0c6eb6a0>]"
      ]
     },
     "execution_count": 18,
     "metadata": {},
     "output_type": "execute_result"
    },
    {
     "data": {
      "image/png": "[encoded data removed]",
      "text/plain": [
       "<Figure size 1440x144 with 1 Axes>"
      ]
     },
     "metadata": {
      "needs_background": "light"
     },
     "output_type": "display_data"
    }
   ],
   "source": [
    "fig = plt.figure(figsize=(20, 2))\n",
    "plt.plot(Y_predict_real/(1024*1024))\n",
    "plt.plot(Y_test_real/(1024*1024))\n",
    "#其中figsize参数用于设置图形窗口的大小。\n",
    "#对于Y_predict_real和Y_test_real进行归一化处理，将返回的结果转换为单位为MB（兆字节），即除以1024*1024"
   ]
  },
  {
   "cell_type": "code",
   "execution_count": 19,
   "metadata": {
    "pycharm": {
     "name": "#%%\n"
    }
   },
   "outputs": [
    {
     "name": "stdout",
     "output_type": "stream",
     "text": [
      "根均方误差(RMSE)：0.09023123862370759\n",
      "平均绝对百分比误差(MAPE)：0.3395939304942712\n"
     ]
    }
   ],
   "source": [
    "def MAPE(true, pred):\n",
    "    diff = np.abs(np.array(true) - np.array(pred))\n",
    "    return np.mean(diff / true)\n",
    "def RMSE(predictions, targets):\n",
    "    return np.sqrt(((predictions - targets) ** 2).mean())\n",
    "\n",
    "print(f\"根均方误差(RMSE)：{RMSE(Y_predict_real/(1024*1024), Y_test_real/(1024*1024))}\")\n",
    "print(f\"平均绝对百分比误差(MAPE)：{MAPE(Y_predict, Y_test)}\")"
   ]
  },
  {
   "cell_type": "code",
   "execution_count": 20,
   "metadata": {},
   "outputs": [
    {
     "name": "stdout",
     "output_type": "stream",
     "text": [
      "请输入需要预测的数量200\n"
     ]
    }
   ],
   "source": [
    "N=int(input(\"请输入需要预测的数量\"))\n",
    "#不能输入太多 200左右 预测效果还行"
   ]
  },
  {
   "cell_type": "code",
   "execution_count": 21,
   "metadata": {},
   "outputs": [],
   "source": [
    "#all_data[-sequence_len:]"
   ]
  },
  {
   "cell_type": "code",
   "execution_count": 22,
   "metadata": {},
   "outputs": [
    {
     "name": "stdout",
     "output_type": "stream",
     "text": [
      "1/1 [==============================] - 0s 25ms/step\n",
      "1/1 [==============================] - 0s 21ms/step\n",
      "1/1 [==============================] - 0s 21ms/step\n",
      "1/1 [==============================] - 0s 23ms/step\n",
      "1/1 [==============================] - 0s 22ms/step\n",
      "1/1 [==============================] - 0s 22ms/step\n",
      "1/1 [==============================] - 0s 22ms/step\n",
      "1/1 [==============================] - 0s 23ms/step\n",
      "1/1 [==============================] - 0s 22ms/step\n",
      "1/1 [==============================] - 0s 23ms/step\n",
      "1/1 [==============================] - 0s 26ms/step\n",
      "1/1 [==============================] - 0s 22ms/step\n",
      "1/1 [==============================] - 0s 23ms/step\n",
      "1/1 [==============================] - 0s 24ms/step\n",
      "1/1 [==============================] - 0s 23ms/step\n",
      "1/1 [==============================] - 0s 22ms/step\n",
      "1/1 [==============================] - 0s 22ms/step\n",
      "1/1 [==============================] - 0s 22ms/step\n",
      "1/1 [==============================] - 0s 22ms/step\n",
      "1/1 [==============================] - 0s 22ms/step\n",
      "1/1 [==============================] - 0s 22ms/step\n",
      "1/1 [==============================] - 0s 23ms/step\n",
      "1/1 [==============================] - 0s 23ms/step\n",
      "1/1 [==============================] - 0s 23ms/step\n",
      "1/1 [==============================] - 0s 23ms/step\n",
      "1/1 [==============================] - 0s 23ms/step\n",
      "1/1 [==============================] - 0s 24ms/step\n",
      "1/1 [==============================] - 0s 24ms/step\n",
      "1/1 [==============================] - 0s 23ms/step\n",
      "1/1 [==============================] - 0s 25ms/step\n",
      "1/1 [==============================] - 0s 23ms/step\n",
      "1/1 [==============================] - 0s 23ms/step\n",
      "1/1 [==============================] - 0s 23ms/step\n",
      "1/1 [==============================] - 0s 24ms/step\n",
      "1/1 [==============================] - 0s 23ms/step\n",
      "1/1 [==============================] - 0s 23ms/step\n",
      "1/1 [==============================] - 0s 23ms/step\n",
      "1/1 [==============================] - 0s 24ms/step\n",
      "1/1 [==============================] - 0s 22ms/step\n",
      "1/1 [==============================] - 0s 23ms/step\n",
      "1/1 [==============================] - 0s 24ms/step\n",
      "1/1 [==============================] - 0s 22ms/step\n",
      "1/1 [==============================] - 0s 23ms/step\n",
      "1/1 [==============================] - 0s 23ms/step\n",
      "1/1 [==============================] - 0s 23ms/step\n",
      "1/1 [==============================] - 0s 21ms/step\n",
      "1/1 [==============================] - 0s 22ms/step\n",
      "1/1 [==============================] - 0s 22ms/step\n",
      "1/1 [==============================] - 0s 23ms/step\n",
      "1/1 [==============================] - 0s 23ms/step\n",
      "1/1 [==============================] - 0s 22ms/step\n",
      "1/1 [==============================] - 0s 22ms/step\n",
      "1/1 [==============================] - 0s 23ms/step\n",
      "1/1 [==============================] - 0s 24ms/step\n",
      "1/1 [==============================] - 0s 25ms/step\n",
      "1/1 [==============================] - 0s 23ms/step\n",
      "1/1 [==============================] - 0s 22ms/step\n",
      "1/1 [==============================] - 0s 22ms/step\n",
      "1/1 [==============================] - 0s 24ms/step\n",
      "1/1 [==============================] - 0s 24ms/step\n",
      "1/1 [==============================] - 0s 22ms/step\n",
      "1/1 [==============================] - 0s 23ms/step\n",
      "1/1 [==============================] - 0s 23ms/step\n",
      "1/1 [==============================] - 0s 22ms/step\n",
      "1/1 [==============================] - 0s 24ms/step\n",
      "1/1 [==============================] - 0s 26ms/step\n",
      "1/1 [==============================] - 0s 25ms/step\n",
      "1/1 [==============================] - 0s 23ms/step\n",
      "1/1 [==============================] - 0s 22ms/step\n",
      "1/1 [==============================] - 0s 22ms/step\n",
      "1/1 [==============================] - 0s 22ms/step\n",
      "1/1 [==============================] - 0s 25ms/step\n",
      "1/1 [==============================] - 0s 24ms/step\n",
      "1/1 [==============================] - 0s 29ms/step\n",
      "1/1 [==============================] - 0s 21ms/step\n",
      "1/1 [==============================] - 0s 22ms/step\n",
      "1/1 [==============================] - 0s 23ms/step\n",
      "1/1 [==============================] - 0s 23ms/step\n",
      "1/1 [==============================] - 0s 24ms/step\n",
      "1/1 [==============================] - 0s 22ms/step\n",
      "1/1 [==============================] - 0s 24ms/step\n",
      "1/1 [==============================] - 0s 22ms/step\n",
      "1/1 [==============================] - 0s 22ms/step\n",
      "1/1 [==============================] - 0s 22ms/step\n",
      "1/1 [==============================] - 0s 22ms/step\n",
      "1/1 [==============================] - 0s 22ms/step\n",
      "1/1 [==============================] - 0s 23ms/step\n",
      "1/1 [==============================] - 0s 23ms/step\n",
      "1/1 [==============================] - 0s 27ms/step\n",
      "1/1 [==============================] - 0s 26ms/step\n",
      "1/1 [==============================] - 0s 22ms/step\n",
      "1/1 [==============================] - 0s 24ms/step\n",
      "1/1 [==============================] - 0s 23ms/step\n",
      "1/1 [==============================] - 0s 25ms/step\n",
      "1/1 [==============================] - 0s 23ms/step\n",
      "1/1 [==============================] - 0s 22ms/step\n",
      "1/1 [==============================] - 0s 22ms/step\n",
      "1/1 [==============================] - 0s 24ms/step\n",
      "1/1 [==============================] - 0s 24ms/step\n",
      "1/1 [==============================] - 0s 24ms/step\n",
      "1/1 [==============================] - 0s 22ms/step\n",
      "1/1 [==============================] - 0s 28ms/step\n",
      "1/1 [==============================] - 0s 23ms/step\n",
      "1/1 [==============================] - 0s 25ms/step\n",
      "1/1 [==============================] - 0s 23ms/step\n",
      "1/1 [==============================] - 0s 22ms/step\n",
      "1/1 [==============================] - 0s 23ms/step\n",
      "1/1 [==============================] - 0s 25ms/step\n",
      "1/1 [==============================] - 0s 25ms/step\n",
      "1/1 [==============================] - 0s 24ms/step\n",
      "1/1 [==============================] - 0s 24ms/step\n",
      "1/1 [==============================] - 0s 24ms/step\n",
      "1/1 [==============================] - 0s 25ms/step\n",
      "1/1 [==============================] - 0s 22ms/step\n",
      "1/1 [==============================] - 0s 21ms/step\n",
      "1/1 [==============================] - 0s 23ms/step\n",
      "1/1 [==============================] - 0s 23ms/step\n",
      "1/1 [==============================] - 0s 24ms/step\n",
      "1/1 [==============================] - 0s 24ms/step\n",
      "1/1 [==============================] - 0s 26ms/step\n",
      "1/1 [==============================] - 0s 24ms/step\n",
      "1/1 [==============================] - 0s 21ms/step\n",
      "1/1 [==============================] - 0s 24ms/step\n",
      "1/1 [==============================] - 0s 21ms/step\n",
      "1/1 [==============================] - 0s 24ms/step\n",
      "1/1 [==============================] - 0s 23ms/step\n",
      "1/1 [==============================] - 0s 26ms/step\n",
      "1/1 [==============================] - 0s 23ms/step\n",
      "1/1 [==============================] - 0s 23ms/step\n",
      "1/1 [==============================] - 0s 23ms/step\n",
      "1/1 [==============================] - 0s 22ms/step\n",
      "1/1 [==============================] - 0s 22ms/step\n",
      "1/1 [==============================] - 0s 21ms/step\n",
      "1/1 [==============================] - 0s 22ms/step\n",
      "1/1 [==============================] - 0s 22ms/step\n",
      "1/1 [==============================] - 0s 22ms/step\n",
      "1/1 [==============================] - 0s 20ms/step\n",
      "1/1 [==============================] - 0s 22ms/step\n",
      "1/1 [==============================] - 0s 21ms/step\n",
      "1/1 [==============================] - 0s 24ms/step\n",
      "1/1 [==============================] - 0s 23ms/step\n",
      "1/1 [==============================] - 0s 24ms/step\n",
      "1/1 [==============================] - 0s 23ms/step\n",
      "1/1 [==============================] - 0s 22ms/step\n",
      "1/1 [==============================] - 0s 24ms/step\n",
      "1/1 [==============================] - 0s 23ms/step\n",
      "1/1 [==============================] - 0s 22ms/step\n",
      "1/1 [==============================] - 0s 24ms/step\n",
      "1/1 [==============================] - 0s 23ms/step\n",
      "1/1 [==============================] - 0s 23ms/step\n",
      "1/1 [==============================] - 0s 24ms/step\n",
      "1/1 [==============================] - 0s 24ms/step\n",
      "1/1 [==============================] - 0s 23ms/step\n",
      "1/1 [==============================] - 0s 23ms/step\n",
      "1/1 [==============================] - 0s 23ms/step\n",
      "1/1 [==============================] - 0s 22ms/step\n",
      "1/1 [==============================] - 0s 22ms/step\n"
     ]
    },
    {
     "name": "stdout",
     "output_type": "stream",
     "text": [
      "1/1 [==============================] - 0s 21ms/step\n",
      "1/1 [==============================] - 0s 22ms/step\n",
      "1/1 [==============================] - 0s 22ms/step\n",
      "1/1 [==============================] - 0s 23ms/step\n",
      "1/1 [==============================] - 0s 21ms/step\n",
      "1/1 [==============================] - 0s 23ms/step\n",
      "1/1 [==============================] - 0s 21ms/step\n",
      "1/1 [==============================] - 0s 22ms/step\n",
      "1/1 [==============================] - 0s 24ms/step\n",
      "1/1 [==============================] - 0s 23ms/step\n",
      "1/1 [==============================] - 0s 23ms/step\n",
      "1/1 [==============================] - 0s 22ms/step\n",
      "1/1 [==============================] - 0s 22ms/step\n",
      "1/1 [==============================] - 0s 21ms/step\n",
      "1/1 [==============================] - 0s 22ms/step\n",
      "1/1 [==============================] - 0s 22ms/step\n",
      "1/1 [==============================] - 0s 21ms/step\n",
      "1/1 [==============================] - 0s 24ms/step\n",
      "1/1 [==============================] - 0s 23ms/step\n",
      "1/1 [==============================] - 0s 23ms/step\n",
      "1/1 [==============================] - 0s 26ms/step\n",
      "1/1 [==============================] - 0s 25ms/step\n",
      "1/1 [==============================] - 0s 28ms/step\n",
      "1/1 [==============================] - 0s 22ms/step\n",
      "1/1 [==============================] - 0s 22ms/step\n",
      "1/1 [==============================] - 0s 30ms/step\n",
      "1/1 [==============================] - 0s 22ms/step\n",
      "1/1 [==============================] - 0s 22ms/step\n",
      "1/1 [==============================] - 0s 22ms/step\n",
      "1/1 [==============================] - 0s 23ms/step\n",
      "1/1 [==============================] - 0s 22ms/step\n",
      "1/1 [==============================] - 0s 21ms/step\n",
      "1/1 [==============================] - 0s 22ms/step\n",
      "1/1 [==============================] - 0s 21ms/step\n",
      "1/1 [==============================] - 0s 22ms/step\n",
      "1/1 [==============================] - 0s 25ms/step\n",
      "1/1 [==============================] - 0s 22ms/step\n",
      "1/1 [==============================] - 0s 22ms/step\n",
      "1/1 [==============================] - 0s 24ms/step\n",
      "1/1 [==============================] - 0s 22ms/step\n",
      "1/1 [==============================] - 0s 22ms/step\n",
      "1/1 [==============================] - 0s 24ms/step\n",
      "1/1 [==============================] - 0s 23ms/step\n"
     ]
    }
   ],
   "source": [
    "current_seq = all_data[-sequence_len:]  # 获取最后一次的输入序列\n",
    "prediction = []                          # 存放模型预测结果\n",
    "for i in range(N):\n",
    "    # 对当前序列进行预测并加入到结果数组中 \n",
    "    predicted_value = lstm.predict(current_seq.reshape(1, sequence_len, 1))\n",
    "    prediction.append(predicted_value[0,0])\n",
    "    # 将当前结果作为下一次的输入序列的一部分\n",
    "    a=current_seq[1:]\n",
    "    b=predicted_value\n",
    "    current_seq = np.concatenate([a,b])"
   ]
  },
  {
   "cell_type": "code",
   "execution_count": 23,
   "metadata": {},
   "outputs": [
    {
     "name": "stdout",
     "output_type": "stream",
     "text": [
      "未来200个时刻的预测值为：\n",
      " [[ 91124.445]\n",
      " [122071.42 ]\n",
      " [143775.52 ]\n",
      " [164222.2  ]\n",
      " [185024.4  ]\n",
      " [207049.25 ]\n",
      " [229688.58 ]\n",
      " [251489.45 ]\n",
      " [270788.72 ]\n",
      " [286232.8  ]\n",
      " [297738.12 ]\n",
      " [306764.7  ]\n",
      " [316111.44 ]\n",
      " [330277.53 ]\n",
      " [356668.75 ]\n",
      " [404323.16 ]\n",
      " [463248.53 ]\n",
      " [467850.2  ]\n",
      " [337718.22 ]\n",
      " [133555.62 ]\n",
      " [ 31653.814]\n",
      " [ 62112.27 ]\n",
      " [114140.79 ]\n",
      " [148268.5  ]\n",
      " [181106.58 ]\n",
      " [220829.94 ]\n",
      " [258792.44 ]\n",
      " [288548.06 ]\n",
      " [309462.75 ]\n",
      " [322332.2  ]\n",
      " [328175.22 ]\n",
      " [328963.3  ]\n",
      " [328340.4  ]\n",
      " [331412.2  ]\n",
      " [344594.47 ]\n",
      " [376205.16 ]\n",
      " [431860.6  ]\n",
      " [488260.97 ]\n",
      " [457914.22 ]\n",
      " [283694.97 ]\n",
      " [ 83193.63 ]\n",
      " [ 31905.764]\n",
      " [ 88297.875]\n",
      " [140706.58 ]\n",
      " [171101.1  ]\n",
      " [202221.56 ]\n",
      " [242331.73 ]\n",
      " [279667.47 ]\n",
      " [307763.9  ]\n",
      " [326813.34 ]\n",
      " [337677.25 ]\n",
      " [341255.47 ]\n",
      " [339697.44 ]\n",
      " [337145.12 ]\n",
      " [339277.34 ]\n",
      " [353019.1  ]\n",
      " [387304.06 ]\n",
      " [447937.44 ]\n",
      " [501391.12 ]\n",
      " [438424.5  ]\n",
      " [227852.98 ]\n",
      " [ 48700.734]\n",
      " [ 47032.523]\n",
      " [111641.22 ]\n",
      " [155314.56 ]\n",
      " [182585.69 ]\n",
      " [214943.02 ]\n",
      " [252896.66 ]\n",
      " [286938.34 ]\n",
      " [312661.75 ]\n",
      " [329587.97 ]\n",
      " [338016.25 ]\n",
      " [339070.88 ]\n",
      " [335991.88 ]\n",
      " [334174.72 ]\n",
      " [339467.62 ]\n",
      " [356865.53 ]\n",
      " [393603.38 ]\n",
      " [456800.88 ]\n",
      " [507128.44 ]\n",
      " [428012.25 ]\n",
      " [207448.36 ]\n",
      " [ 40804.49 ]\n",
      " [ 53088.33 ]\n",
      " [118398.88 ]\n",
      " [159700.03 ]\n",
      " [186784.6  ]\n",
      " [220370.39 ]\n",
      " [258661.88 ]\n",
      " [292167.4  ]\n",
      " [317104.5  ]\n",
      " [333168.62 ]\n",
      " [340679.8  ]\n",
      " [340946.53 ]\n",
      " [337524.03 ]\n",
      " [335954.16 ]\n",
      " [341825.72 ]\n",
      " [359905.06 ]\n",
      " [398490.4  ]\n",
      " [463989.56 ]\n",
      " [509127.1  ]\n",
      " [415400.56 ]\n",
      " [188954.52 ]\n",
      " [ 35993.867]\n",
      " [ 59574.715]\n",
      " [124394.05 ]\n",
      " [163416.89 ]\n",
      " [190416.84 ]\n",
      " [224835.56 ]\n",
      " [263133.53 ]\n",
      " [296047.72 ]\n",
      " [320260.12 ]\n",
      " [335564.47 ]\n",
      " [342307.3  ]\n",
      " [341969.03 ]\n",
      " [338359.25 ]\n",
      " [337114.16 ]\n",
      " [343621.1  ]\n",
      " [362717.22 ]\n",
      " [403575.2  ]\n",
      " [470863.94 ]\n",
      " [509115.34 ]\n",
      " [400353.66 ]\n",
      " [169844.6  ]\n",
      " [ 32484.074]\n",
      " [ 66102.266]\n",
      " [129706.805]\n",
      " [166550.11 ]\n",
      " [193684.92 ]\n",
      " [228867.17 ]\n",
      " [267034.2  ]\n",
      " [299284.72 ]\n",
      " [322736.78 ]\n",
      " [337267.78 ]\n",
      " [343262.5  ]\n",
      " [342370.22 ]\n",
      " [338622.78 ]\n",
      " [337754.97 ]\n",
      " [345077.03 ]\n",
      " [365576.66 ]\n",
      " [408942.53 ]\n",
      " [477490.34 ]\n",
      " [507166.5  ]\n",
      " [382431.8  ]\n",
      " [150118.1  ]\n",
      " [ 30337.002]\n",
      " [ 72734.195]\n",
      " [134543.05 ]\n",
      " [169341.64 ]\n",
      " [196809.5  ]\n",
      " [232708.12 ]\n",
      " [270633.12 ]\n",
      " [302141.1  ]\n",
      " [324776.66 ]\n",
      " [338496.06 ]\n",
      " [343737.38 ]\n",
      " [342338.78 ]\n",
      " [338556.12 ]\n",
      " [338192.62 ]\n",
      " [346459.72 ]\n",
      " [368540.12 ]\n",
      " [414560.75 ]\n",
      " [483842.7  ]\n",
      " [503470.94 ]\n",
      " [362820.53 ]\n",
      " [130988.49 ]\n",
      " [ 29675.875]\n",
      " [ 79392.19 ]\n",
      " [138984.16 ]\n",
      " [171924.14 ]\n",
      " [199902.38 ]\n",
      " [236458.03 ]\n",
      " [274052.28 ]\n",
      " [304778.5  ]\n",
      " [326579.38 ]\n",
      " [339478.22 ]\n",
      " [343979.2  ]\n",
      " [342122.75 ]\n",
      " [338381.75 ]\n",
      " [338602.8  ]\n",
      " [347888.53 ]\n",
      " [371675.12 ]\n",
      " [420436.97 ]\n",
      " [489820.4  ]\n",
      " [498076.97 ]\n",
      " [342024.5  ]\n",
      " [113006.16 ]\n",
      " [ 30440.531]\n",
      " [ 86002.1  ]\n",
      " [143097.12 ]\n",
      " [174410.16 ]\n",
      " [203035.55 ]\n",
      " [240161.48 ]\n",
      " [277346.28 ]\n",
      " [307267.72 ]\n",
      " [328228.9  ]\n",
      " [340307.44 ]\n",
      " [344086.53 ]\n",
      " [341820.16 ]\n",
      " [338188.1  ]]\n"
     ]
    }
   ],
   "source": [
    "prediction_real = stand_scaler.inverse_transform(np.array(prediction).reshape(-1,1))\n",
    "print(\"未来\"+str(N)+\"个时刻的预测值为：\\n\", prediction_real)  # 打印未来N个时刻的预测结果"
   ]
  },
  {
   "cell_type": "code",
   "execution_count": 24,
   "metadata": {},
   "outputs": [],
   "source": [
    "#改数据格式\n",
    "prediction_real_change=[]\n",
    "for j in prediction_real:\n",
    "    prediction_real_change.extend(j)"
   ]
  },
  {
   "cell_type": "code",
   "execution_count": 27,
   "metadata": {},
   "outputs": [],
   "source": [
    "#保存数据\n",
    "# data3=pd.DataFrame()\n",
    "# data3['预测']=prediction_real_change\n",
    "# data3.to_excel('预测结果.xlsx')"
   ]
  },
  {
   "cell_type": "code",
   "execution_count": 30,
   "metadata": {},
   "outputs": [
    {
     "data": {
      "text/plain": [
       "[<matplotlib.lines.Line2D at 0x19e11f57970>]"
      ]
     },
     "execution_count": 30,
     "metadata": {},
     "output_type": "execute_result"
    },
    {
     "data": {
      "image/png": "[encoded data removed]",
      "text/plain": [
       "<Figure size 1440x360 with 1 Axes>"
      ]
     },
     "metadata": {
      "needs_background": "light"
     },
     "output_type": "display_data"
    }
   ],
   "source": [
    "fig = plt.figure(figsize=(20,5 ))\n",
    "plt.plot(prediction_real_change)"
   ]
  },
  {
   "cell_type": "code",
   "execution_count": null,
   "metadata": {},
   "outputs": [],
   "source": []
  },
  {
   "cell_type": "code",
   "execution_count": null,
   "metadata": {},
   "outputs": [],
   "source": []
  },
  {
   "cell_type": "code",
   "execution_count": null,
   "metadata": {},
   "outputs": [],
   "source": []
  },
  {
   "cell_type": "code",
   "execution_count": null,
   "metadata": {},
   "outputs": [],
   "source": []
  },
  {
   "cell_type": "code",
   "execution_count": null,
   "metadata": {},
   "outputs": [],
   "source": []
  }
 ],
 "metadata": {
  "kernelspec": {
   "display_name": "Python 3",
   "language": "python",
   "name": "python3"
  },
  "language_info": {
   "codemirror_mode": {
    "name": "ipython",
    "version": 3
   },
   "file_extension": ".py",
   "mimetype": "text/x-python",
   "name": "python",
   "nbconvert_exporter": "python",
   "pygments_lexer": "ipython3",
   "version": "3.9.2"
  }
 },
 "nbformat": 4,
 "nbformat_minor": 2
}
