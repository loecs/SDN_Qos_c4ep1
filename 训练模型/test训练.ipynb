{
 "cells": [
  {
   "cell_type": "code",
   "execution_count": null,
   "metadata": {
    "pycharm": {
     "is_executing": true
    }
   },
   "outputs": [],
   "source": [
    "import time\n",
    "T1 = time.process_time()\n",
    "\n",
    "import pandas as pd\n",
    "\n",
    "import numpy as np\n",
    "my_seed = 2017\n",
    "np.random.seed(my_seed)\n",
    "\n",
    "import random \n",
    "random.seed(my_seed)\n",
    "\n",
    "import tensorflow as tf\n",
    "tf.random.set_seed(my_seed)"
   ]
  },
  {
   "cell_type": "code",
   "execution_count": 50,
   "metadata": {},
   "outputs": [
    {
     "data": {
      "text/html": [
       "<div>\n",
       "<style scoped>\n",
       "    .dataframe tbody tr th:only-of-type {\n",
       "        vertical-align: middle;\n",
       "    }\n",
       "\n",
       "    .dataframe tbody tr th {\n",
       "        vertical-align: top;\n",
       "    }\n",
       "\n",
       "    .dataframe thead th {\n",
       "        text-align: right;\n",
       "    }\n",
       "</style>\n",
       "<table border=\"1\" class=\"dataframe\">\n",
       "  <thead>\n",
       "    <tr style=\"text-align: right;\">\n",
       "      <th></th>\n",
       "      <th>timestamp</th>\n",
       "      <th>link_id</th>\n",
       "      <th>throughput</th>\n",
       "      <th>delay</th>\n",
       "      <th>jitter</th>\n",
       "      <th>loss</th>\n",
       "      <th>入端口</th>\n",
       "      <th>出端口</th>\n",
       "      <th>组合</th>\n",
       "    </tr>\n",
       "  </thead>\n",
       "  <tbody>\n",
       "    <tr>\n",
       "      <th>0</th>\n",
       "      <td>00:56:56.600000</td>\n",
       "      <td>4-3-2-5</td>\n",
       "      <td>0</td>\n",
       "      <td>1.355648</td>\n",
       "      <td>1.355648</td>\n",
       "      <td>0.0</td>\n",
       "      <td>4</td>\n",
       "      <td>5</td>\n",
       "      <td>45</td>\n",
       "    </tr>\n",
       "    <tr>\n",
       "      <th>1</th>\n",
       "      <td>00:57:09.600000</td>\n",
       "      <td>4-3-2-5</td>\n",
       "      <td>3200</td>\n",
       "      <td>1.294017</td>\n",
       "      <td>0.061631</td>\n",
       "      <td>0.0</td>\n",
       "      <td>4</td>\n",
       "      <td>5</td>\n",
       "      <td>45</td>\n",
       "    </tr>\n",
       "    <tr>\n",
       "      <th>2</th>\n",
       "      <td>00:57:36.700000</td>\n",
       "      <td>4-3-2-5</td>\n",
       "      <td>0</td>\n",
       "      <td>1.390100</td>\n",
       "      <td>1.390100</td>\n",
       "      <td>0.0</td>\n",
       "      <td>4</td>\n",
       "      <td>5</td>\n",
       "      <td>45</td>\n",
       "    </tr>\n",
       "    <tr>\n",
       "      <th>3</th>\n",
       "      <td>00:57:49.700000</td>\n",
       "      <td>4-3-2-5</td>\n",
       "      <td>4930</td>\n",
       "      <td>1.552820</td>\n",
       "      <td>0.162721</td>\n",
       "      <td>0.0</td>\n",
       "      <td>4</td>\n",
       "      <td>5</td>\n",
       "      <td>45</td>\n",
       "    </tr>\n",
       "    <tr>\n",
       "      <th>4</th>\n",
       "      <td>00:58:02.700000</td>\n",
       "      <td>4-3-2-5</td>\n",
       "      <td>753</td>\n",
       "      <td>1.465440</td>\n",
       "      <td>0.087380</td>\n",
       "      <td>0.0</td>\n",
       "      <td>4</td>\n",
       "      <td>5</td>\n",
       "      <td>45</td>\n",
       "    </tr>\n",
       "    <tr>\n",
       "      <th>5</th>\n",
       "      <td>00:58:15.700000</td>\n",
       "      <td>4-3-2-5</td>\n",
       "      <td>705</td>\n",
       "      <td>1.517892</td>\n",
       "      <td>0.052452</td>\n",
       "      <td>0.0</td>\n",
       "      <td>4</td>\n",
       "      <td>5</td>\n",
       "      <td>45</td>\n",
       "    </tr>\n",
       "    <tr>\n",
       "      <th>6</th>\n",
       "      <td>00:58:28.700000</td>\n",
       "      <td>4-3-2-5</td>\n",
       "      <td>720</td>\n",
       "      <td>1.559973</td>\n",
       "      <td>0.042081</td>\n",
       "      <td>0.0</td>\n",
       "      <td>4</td>\n",
       "      <td>5</td>\n",
       "      <td>45</td>\n",
       "    </tr>\n",
       "    <tr>\n",
       "      <th>7</th>\n",
       "      <td>00:58:41.800000</td>\n",
       "      <td>4-3-2-5</td>\n",
       "      <td>772</td>\n",
       "      <td>3.505945</td>\n",
       "      <td>1.945972</td>\n",
       "      <td>0.0</td>\n",
       "      <td>4</td>\n",
       "      <td>5</td>\n",
       "      <td>45</td>\n",
       "    </tr>\n",
       "    <tr>\n",
       "      <th>8</th>\n",
       "      <td>00:58:54.800000</td>\n",
       "      <td>4-3-2-5</td>\n",
       "      <td>672</td>\n",
       "      <td>0.675440</td>\n",
       "      <td>2.830505</td>\n",
       "      <td>0.0</td>\n",
       "      <td>4</td>\n",
       "      <td>5</td>\n",
       "      <td>45</td>\n",
       "    </tr>\n",
       "    <tr>\n",
       "      <th>9</th>\n",
       "      <td>00:59:07.800000</td>\n",
       "      <td>4-3-2-5</td>\n",
       "      <td>1668</td>\n",
       "      <td>7.353544</td>\n",
       "      <td>6.678104</td>\n",
       "      <td>0.0</td>\n",
       "      <td>4</td>\n",
       "      <td>5</td>\n",
       "      <td>45</td>\n",
       "    </tr>\n",
       "  </tbody>\n",
       "</table>\n",
       "</div>"
      ],
      "text/plain": [
       "         timestamp  link_id  throughput     delay    jitter  loss  入端口  出端口  \\\n",
       "0  00:56:56.600000  4-3-2-5           0  1.355648  1.355648   0.0    4    5   \n",
       "1  00:57:09.600000  4-3-2-5        3200  1.294017  0.061631   0.0    4    5   \n",
       "2  00:57:36.700000  4-3-2-5           0  1.390100  1.390100   0.0    4    5   \n",
       "3  00:57:49.700000  4-3-2-5        4930  1.552820  0.162721   0.0    4    5   \n",
       "4  00:58:02.700000  4-3-2-5         753  1.465440  0.087380   0.0    4    5   \n",
       "5  00:58:15.700000  4-3-2-5         705  1.517892  0.052452   0.0    4    5   \n",
       "6  00:58:28.700000  4-3-2-5         720  1.559973  0.042081   0.0    4    5   \n",
       "7  00:58:41.800000  4-3-2-5         772  3.505945  1.945972   0.0    4    5   \n",
       "8  00:58:54.800000  4-3-2-5         672  0.675440  2.830505   0.0    4    5   \n",
       "9  00:59:07.800000  4-3-2-5        1668  7.353544  6.678104   0.0    4    5   \n",
       "\n",
       "   组合  \n",
       "0  45  \n",
       "1  45  \n",
       "2  45  \n",
       "3  45  \n",
       "4  45  \n",
       "5  45  \n",
       "6  45  \n",
       "7  45  \n",
       "8  45  \n",
       "9  45  "
      ]
     },
     "execution_count": 50,
     "metadata": {},
     "output_type": "execute_result"
    }
   ],
   "source": [
    "#导入数据测试\n",
    "df2='45.xlsx'\n",
    "data2=pd.read_excel(df2)\n",
    "data2.head(10)"
   ]
  },
  {
   "cell_type": "code",
   "execution_count": 99,
   "metadata": {},
   "outputs": [
    {
     "name": "stdout",
     "output_type": "stream",
     "text": [
      "[ 1.35564804  0.0616312   1.39009952 ... 41.685462   41.73803329\n",
      "  0.26869774]\n"
     ]
    }
   ],
   "source": [
    "# 创建一个Series对象\n",
    "s = data2[\"jitter\"]\n",
    "#s = data2[\"jitter\"]\n",
    "# 将Series转换为ndarray\n",
    "arr = s.to_numpy()\n",
    "# 输出数组\n",
    "print(arr)"
   ]
  },
  {
   "cell_type": "code",
   "execution_count": 100,
   "metadata": {},
   "outputs": [
    {
     "data": {
      "text/plain": [
       "numpy.ndarray"
      ]
     },
     "execution_count": 100,
     "metadata": {},
     "output_type": "execute_result"
    }
   ],
   "source": [
    "type(arr)"
   ]
  },
  {
   "cell_type": "code",
   "execution_count": 101,
   "metadata": {},
   "outputs": [],
   "source": [
    "import matplotlib\n",
    "import matplotlib.pyplot as plt\n",
    "\n",
    "matplotlib.rcParams['font.family'] = 'SimHei'"
   ]
  },
  {
   "cell_type": "code",
   "execution_count": 102,
   "metadata": {},
   "outputs": [
    {
     "data": {
      "text/plain": [
       "numpy.ndarray"
      ]
     },
     "execution_count": 102,
     "metadata": {},
     "output_type": "execute_result"
    }
   ],
   "source": [
    "#all_data = np.fromfile(\"ec_data\")\n",
    "all_data=arr\n",
    "type(all_data)"
   ]
  },
  {
   "cell_type": "code",
   "execution_count": 103,
   "metadata": {},
   "outputs": [],
   "source": [
    "from sklearn.preprocessing import MinMaxScaler\n",
    "stand_scaler = MinMaxScaler()\n",
    "all_data = stand_scaler.fit_transform(all_data.reshape(-1,1))"
   ]
  },
  {
   "cell_type": "code",
   "execution_count": null,
   "metadata": {},
   "outputs": [],
   "source": []
  },
  {
   "cell_type": "code",
   "execution_count": 104,
   "metadata": {},
   "outputs": [],
   "source": [
    "#sequence_len = 10 #原来的\n",
    "sequence_len = 5 #最适合\n",
    "X = []\n",
    "Y = []\n",
    "for i in range(len(all_data)-sequence_len):\n",
    "    X.append(all_data[i:i+sequence_len])\n",
    "    Y.append(all_data[i+sequence_len])\n",
    "X = np.array(X)\n",
    "Y = np.array(Y)\n",
    "#这段代码的作用是将一个给定时间序列数据 `all_data` 按照指定的时间步长 `sequence_len` 进行滑窗切分，切分出一系列的样本数据，以便之后输入模型进行训练或预测。\n",
    "#具体来说，假设原始的时间序列数据为 $[x_1, x_2, ..., x_n]$，那么代码首先定义了两个空列表 `X` 和 `Y`，然后在一个 for 循环中对原始数据进行了以下处理：\n",
    "#1. 对于每个下标 `i`，从原始数据中切分出长度为 `sequence_len` 的子序列 `all_data[i:i+sequence_len]`，并将该子序列添加到 `X` 列表中；\n",
    "#2. 将切分后的子序列的下一个元素 `all_data[i+sequence_len]` 添加到 `Y` 列表中。\n",
    "#最终，`X` 和 `Y` 数组将分别包含所有通过滑窗切分得到的样本数据和对应的标签数据。其中，`X` 的形状为 `(n-sequence_len, sequence_len)`，\n",
    "#表示共有 `n-sequence_len` 个样本，每个样本有 `sequence_len` 个特征值；而 `Y` 的形状为 `(n-sequence_len,)`，表示每个样本对应一个标签（即下一个时间步的特征值）。"
   ]
  },
  {
   "cell_type": "code",
   "execution_count": 105,
   "metadata": {},
   "outputs": [],
   "source": [
    "from sklearn.model_selection import train_test_split\n",
    "X_train, X_test, Y_train, Y_test = train_test_split(X, Y, test_size=0.05)"
   ]
  },
  {
   "cell_type": "code",
   "execution_count": 106,
   "metadata": {},
   "outputs": [],
   "source": [
    "import tensorflow as tf\n",
    "from tensorflow import keras\n"
   ]
  },
  {
   "cell_type": "code",
   "execution_count": 107,
   "metadata": {},
   "outputs": [],
   "source": [
    "from keras.models import Sequential\n",
    "from keras.layers import Dense,LSTM\n",
    "\n",
    "\n",
    "def build_model(activation_name,):\n",
    "    model = Sequential()\n",
    "    #model.add(LSTM(128, input_shape=(sequence_len,1),return_sequences=True))  #原来的\n",
    "    #model.add(LSTM(128, input_shape=(sequence_len,1),return_sequences=True))\n",
    "    #model.add(LSTM(64))\n",
    "   # model.add(Dense(1,activation=activation_name))\n",
    "    #optimizer =tf.optimizers.Adam(learning_rate=0.1) #原来的\n",
    "    optimizer =tf.optimizers.Adam(learning_rate=0.05)\n",
    "    #model.compile(loss='mean_squared_error', optimizer=optimizer, metrics=['mape'])\n",
    "    #model.compile(loss='mean_squared_error', optimizer=optimizer, metrics=['mape'])\n",
    "    \n",
    "    model.add(keras.layers.LSTM(units=32, input_shape=(None, 1)))\n",
    "    model.add(keras.layers.Dense(units=1))\n",
    "    model.compile(optimizer='adam', loss='mean_squared_error')\n",
    "    return model\n",
    "\n",
    "\n",
    "#这些代码是用来构建一个神经网络模型，主要应用于时间序列数据的预测。具体作用如下：\n",
    "#导入Keras库中的Sequential顺序模型和LSTM层\n",
    "#定义了一个函数build_model，用于构建神经网络模型\n",
    "#在模型中添加了两个LSTM层，分别为含有128个节点的输入层和含有64个节点的输出层\n",
    "#向模型添加了一个具有1个节点的稠密层(Dense)，并指定激活函数为用户提供的activation_name参数（实现可配置）\n",
    "#定义了优化器Adam，并设置学习率为0.1\n",
    "#编译了模型，指定损失函数为均方差误差（mean_squared_error），优化器为Adam，并使用平均绝对百分比误差（mean absolute percentage error）进行模型评估\n",
    "#返回构建好的模型"
   ]
  },
  {
   "cell_type": "code",
   "execution_count": 108,
   "metadata": {},
   "outputs": [],
   "source": [
    "lstm = build_model(\"sigmoid\")\n",
    "step = 250"
   ]
  },
  {
   "cell_type": "code",
   "execution_count": 109,
   "metadata": {},
   "outputs": [
    {
     "data": {
      "text/plain": [
       "(1167, 5, 1)"
      ]
     },
     "execution_count": 109,
     "metadata": {},
     "output_type": "execute_result"
    }
   ],
   "source": [
    "X_train.shape"
   ]
  },
  {
   "cell_type": "code",
   "execution_count": 110,
   "metadata": {},
   "outputs": [],
   "source": [
    "#history = lstm.fit(\n",
    "#    X_train, Y_train, epochs=50, batch_size = 32,verbose=0,validation_data = (X_test, Y_test)\n",
    "#    )\n",
    "history = lstm.fit(\n",
    "    X_train, Y_train, epochs=50, batch_size = 32,verbose=0,validation_data = (X_test, Y_test)\n",
    "    )\n",
    "\n",
    "#epochs (轮数): 整个训练集数据将被用来训练神经网络50次。\n",
    "#batch_size (批处理大小)：每个训练批次包含的样本数量为32。\n",
    "#verbose (冗长模式): 设置为0以关闭详细输出。\n",
    "#validation_data (验证数据): 将测试集作为验证数据传入，以了解模型的表现情况。\n",
    "#总体来说，lstm.fit()方法会根据提供的训练数据和超参数对模型进行训练，\n",
    "#并且返回一个 history 对象，其中包含一些有关模型表现的统计信息（例如每轮结束后的训练和验证损失、准确度等）。"
   ]
  },
  {
   "cell_type": "code",
   "execution_count": 111,
   "metadata": {},
   "outputs": [
    {
     "name": "stdout",
     "output_type": "stream",
     "text": [
      "WARNING:tensorflow:5 out of the last 11 calls to <function Model.make_predict_function.<locals>.predict_function at 0x000002139AFB79D0> triggered tf.function retracing. Tracing is expensive and the excessive number of tracings could be due to (1) creating @tf.function repeatedly in a loop, (2) passing tensors with different shapes, (3) passing Python objects instead of tensors. For (1), please define your @tf.function outside of the loop. For (2), @tf.function has reduce_retracing=True option that can avoid unnecessary retracing. For (3), please refer to https://www.tensorflow.org/guide/function#controlling_retracing and https://www.tensorflow.org/api_docs/python/tf/function for  more details.\n",
      "2/2 [==============================] - 0s 3ms/step\n"
     ]
    }
   ],
   "source": [
    "Y_predict = lstm.predict(X_test)"
   ]
  },
  {
   "cell_type": "code",
   "execution_count": 112,
   "metadata": {},
   "outputs": [],
   "source": [
    "Y_predict_real = stand_scaler.inverse_transform(Y_predict.reshape(-1,1))\n",
    "Y_test_real = stand_scaler.inverse_transform(Y_test.reshape(-1,1))\n",
    "# print(Y_predict_real,Y_test_real)"
   ]
  },
  {
   "cell_type": "code",
   "execution_count": 113,
   "metadata": {},
   "outputs": [
    {
     "data": {
      "text/plain": [
       "[<matplotlib.lines.Line2D at 0x213a1c1ca00>]"
      ]
     },
     "execution_count": 113,
     "metadata": {},
     "output_type": "execute_result"
    },
    {
     "data": {
      "image/png": "[encoded data removed]",
      "text/plain": [
       "<Figure size 1440x144 with 1 Axes>"
      ]
     },
     "metadata": {
      "needs_background": "light"
     },
     "output_type": "display_data"
    }
   ],
   "source": [
    "fig = plt.figure(figsize=(20, 2))\n",
    "plt.plot(Y_predict_real/(1024*1024))\n",
    "plt.plot(Y_test_real/(1024*1024))\n",
    "#其中figsize参数用于设置图形窗口的大小。\n",
    "#对于Y_predict_real和Y_test_real进行归一化处理，将返回的结果转换为单位为MB（兆字节），即除以1024*1024"
   ]
  },
  {
   "cell_type": "code",
   "execution_count": 114,
   "metadata": {},
   "outputs": [
    {
     "name": "stdout",
     "output_type": "stream",
     "text": [
      "根均方误差(RMSE)：2.090747094419617e-05\n",
      "平均绝对百分比误差(MAPE)：2.047230983730555\n"
     ]
    }
   ],
   "source": [
    "def MAPE(true, pred):\n",
    "    diff = np.abs(np.array(true) - np.array(pred))\n",
    "    return np.mean(diff / true)\n",
    "def RMSE(predictions, targets):\n",
    "    return np.sqrt(((predictions - targets) ** 2).mean())\n",
    "\n",
    "print(f\"根均方误差(RMSE)：{RMSE(Y_predict_real/(1024*1024), Y_test_real/(1024*1024))}\")\n",
    "print(f\"平均绝对百分比误差(MAPE)：{MAPE(Y_predict, Y_test)}\")"
   ]
  },
  {
   "cell_type": "code",
   "execution_count": 115,
   "metadata": {},
   "outputs": [
    {
     "name": "stdout",
     "output_type": "stream",
     "text": [
      "程序运行时间:16703.125毫秒\n"
     ]
    }
   ],
   "source": [
    "T2 =time.process_time()\n",
    "print('程序运行时间:%s毫秒' % ((T2 - T1)*1000))\n",
    "# 系统: Windows\n",
    "# 程序运行时间:-毫秒"
   ]
  },
  {
   "cell_type": "code",
   "execution_count": null,
   "metadata": {},
   "outputs": [],
   "source": []
  },
  {
   "cell_type": "code",
   "execution_count": null,
   "metadata": {},
   "outputs": [],
   "source": []
  },
  {
   "cell_type": "code",
   "execution_count": null,
   "metadata": {},
   "outputs": [],
   "source": []
  },
  {
   "cell_type": "code",
   "execution_count": null,
   "metadata": {},
   "outputs": [],
   "source": []
  },
  {
   "cell_type": "code",
   "execution_count": null,
   "metadata": {},
   "outputs": [],
   "source": []
  }
 ],
 "metadata": {
  "kernelspec": {
   "display_name": "Python 3",
   "language": "python",
   "name": "python3"
  },
  "language_info": {
   "codemirror_mode": {
    "name": "ipython",
    "version": 3
   },
   "file_extension": ".py",
   "mimetype": "text/x-python",
   "name": "python",
   "nbconvert_exporter": "python",
   "pygments_lexer": "ipython3",
   "version": "3.9.2"
  }
 },
 "nbformat": 4,
 "nbformat_minor": 2
}
